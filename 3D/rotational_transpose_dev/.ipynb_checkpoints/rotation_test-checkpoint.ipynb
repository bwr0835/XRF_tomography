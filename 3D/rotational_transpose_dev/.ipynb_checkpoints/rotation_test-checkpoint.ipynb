{
 "cells": [
  {
   "cell_type": "code",
   "execution_count": 1,
   "metadata": {},
   "outputs": [],
   "source": [
    "import torch as tc\n",
    "tc.set_default_tensor_type(tc.FloatTensor)\n",
    "import torch.nn as nn\n",
    "import torch.nn.functional as F\n",
    "\n",
    "import matplotlib.pyplot as plt\n",
    "import matplotlib \n",
    "matplotlib.rcParams['pdf.fonttype'] = 'truetype'\n",
    "fontProperties = {'family': 'serif', 'serif': ['Helvetica'], 'weight': 'normal', 'size': 12}\n",
    "plt.rc('font', **fontProperties)\n",
    "from matplotlib import gridspec\n",
    "from mpl_toolkits.axes_grid1 import make_axes_locatable\n",
    "import matplotlib.ticker as mtick\n",
    "import dxchange\n",
    "\n",
    "import warnings\n",
    "warnings.filterwarnings(\"ignore\")\n",
    "\n",
    "import numpy as np\n",
    "dev = \"cpu\""
   ]
  },
  {
   "cell_type": "code",
   "execution_count": 2,
   "metadata": {},
   "outputs": [],
   "source": [
    "def rotation_grid(arr, theta, dev):\n",
    "\n",
    "    m0 = tc.tensor([tc.cos(theta), -tc.sin(theta), 0.0], device=dev)\n",
    "    m1 = tc.tensor([tc.sin(theta), tc.cos(theta), 0.0], device=dev)\n",
    "    m = tc.stack([m0, m1]).view(1, 2, 3)\n",
    "    m = m.repeat([arr.shape[0], 1, 1])\n",
    "    \n",
    "    g = F.affine_grid(m, arr.shape)\n",
    "    \n",
    "    return g\n",
    "\n",
    "def rotate(arr, theta, dev):\n",
    "    \"\"\"\n",
    "    This function rotates the grid concentration with dimension: (n_element, sample_height_n, sample_size_n, sample_size_n)\n",
    "    The rotational axis is along dim 1 of the grid\n",
    "    \n",
    "    Parameters\n",
    "    ----------\n",
    "    arr : torch tensor\n",
    "        grid concentration\n",
    "        \n",
    "    theta : float\n",
    "        rotation angle in radians (clockwise)\n",
    "    \n",
    "    dev : string\n",
    "        specify \"cpu\" or the cuda device (ex: cuda:0)\n",
    "\n",
    "\n",
    "    Returns\n",
    "    -------\n",
    "    q : torch tensor\n",
    "        the rotated grid concentration\n",
    "\n",
    "    \"\"\"\n",
    "    \n",
    "    g = rotation_grid(arr, theta, dev)\n",
    "    q = F.grid_sample(arr, g, padding_mode='border')\n",
    "    \n",
    "    return q"
   ]
  },
  {
   "cell_type": "code",
   "execution_count": 15,
   "metadata": {},
   "outputs": [
    {
     "name": "stdout",
     "output_type": "stream",
     "text": [
      "torch.Size([3, 4, 4, 4])\n"
     ]
    }
   ],
   "source": [
    "imm = tc.tensor([[0, 1, 2, 3],\n",
    "                 [1, 1, 2, 3],\n",
    "                 [2, 2, 2, 3],\n",
    "                 [3, 3, 3, 3]]).float().repeat([3,4,1,1])\n",
    "print(imm.size())\n",
    "theta = tc.tensor(np.pi/2)\n",
    "# theta = tc.tensor(0.)"
   ]
  },
  {
   "cell_type": "code",
   "execution_count": 16,
   "metadata": {},
   "outputs": [
    {
     "name": "stdout",
     "output_type": "stream",
     "text": [
      "torch.Size([3, 4, 4, 2])\n"
     ]
    }
   ],
   "source": [
    "grid = rotation_grid(imm, theta, dev)\n",
    "print(grid.size())"
   ]
  },
  {
   "cell_type": "code",
   "execution_count": 17,
   "metadata": {},
   "outputs": [
    {
     "data": {
      "text/plain": [
       "Text(0.5, 1.0, 'intensity')"
      ]
     },
     "execution_count": 17,
     "metadata": {},
     "output_type": "execute_result"
    },
    {
     "data": {
      "image/png": "[encoded data removed]",
      "text/plain": [
       "<Figure size 360x360 with 2 Axes>"
      ]
     },
     "metadata": {
      "needs_background": "light"
     },
     "output_type": "display_data"
    }
   ],
   "source": [
    "fig6 = plt.figure(figsize=(5,5))\n",
    "gs6 = gridspec.GridSpec(nrows= 1, ncols =1)\n",
    "\n",
    "fig6_ax1 = fig6.add_subplot(gs6[0, 0])\n",
    "pos = fig6_ax1.imshow(imm[0,0], cmap='jet', vmin=0, vmax=5, origin='lower')\n",
    "divider = make_axes_locatable(fig6_ax1)\n",
    "cax = divider.append_axes(\"right\", size=\"5%\", pad=0.05)\n",
    "ticks = np.array([0,1,2,3,4,5])\n",
    "cbar = fig6.colorbar(pos, cax=cax, ticks=ticks)\n",
    "cbar.ax.tick_params(labelsize=14) \n",
    "cbar.ax.set_title('intensity', size='14')"
   ]
  },
  {
   "cell_type": "code",
   "execution_count": 18,
   "metadata": {},
   "outputs": [
    {
     "data": {
      "text/plain": [
       "Text(0.5, 1.0, 'intensity')"
      ]
     },
     "execution_count": 18,
     "metadata": {},
     "output_type": "execute_result"
    },
    {
     "data": {
      "image/png": "[encoded data removed]",
      "text/plain": [
       "<Figure size 720x360 with 4 Axes>"
      ]
     },
     "metadata": {
      "needs_background": "light"
     },
     "output_type": "display_data"
    }
   ],
   "source": [
    "fig6 = plt.figure(figsize=(10,5))\n",
    "gs6 = gridspec.GridSpec(nrows= 1, ncols =2)\n",
    "\n",
    "fig6_ax1 = fig6.add_subplot(gs6[0, 0])\n",
    "pos = fig6_ax1.imshow(grid[0,:,:,0], cmap='jet', vmin=grid.min(), vmax=grid.max(), origin='lower')\n",
    "divider = make_axes_locatable(fig6_ax1)\n",
    "cax = divider.append_axes(\"right\", size=\"5%\", pad=0.05)\n",
    "cbar = fig6.colorbar(pos, cax=cax)\n",
    "cbar.ax.tick_params(labelsize=14) \n",
    "cbar.ax.set_title('intensity', size='14')\n",
    "\n",
    "fig6_ax2 = fig6.add_subplot(gs6[0, 1])\n",
    "pos = fig6_ax2.imshow(grid[0,:,:,1], cmap='jet', vmin=grid.min(), vmax=grid.max(), origin='lower')\n",
    "divider = make_axes_locatable(fig6_ax2)\n",
    "cax = divider.append_axes(\"right\", size=\"5%\", pad=0.05)\n",
    "cbar = fig6.colorbar(pos, cax=cax)\n",
    "cbar.ax.tick_params(labelsize=14) \n",
    "cbar.ax.set_title('intensity', size='14')\n"
   ]
  },
  {
   "cell_type": "code",
   "execution_count": 19,
   "metadata": {},
   "outputs": [
    {
     "data": {
      "text/plain": [
       "Text(0.5, 1.0, 'intensity')"
      ]
     },
     "execution_count": 19,
     "metadata": {},
     "output_type": "execute_result"
    },
    {
     "data": {
      "image/png": "[encoded data removed]",
      "text/plain": [
       "<Figure size 864x360 with 4 Axes>"
      ]
     },
     "metadata": {
      "needs_background": "light"
     },
     "output_type": "display_data"
    }
   ],
   "source": [
    "grid = rotation_grid(imm, theta, dev)\n",
    "fig6 = plt.figure(figsize=(12,5))\n",
    "gs6 = gridspec.GridSpec(nrows= 1, ncols =2)\n",
    "\n",
    "fig6_ax1 = fig6.add_subplot(gs6[0, 0])\n",
    "pos = fig6_ax1.imshow(grid[0,:,:,0], cmap='jet', vmin=grid.min(), vmax=grid.max(), origin='lower')\n",
    "divider = make_axes_locatable(fig6_ax1)\n",
    "cax = divider.append_axes(\"right\", size=\"5%\", pad=0.05)\n",
    "cbar = fig6.colorbar(pos, cax=cax)\n",
    "cbar.ax.tick_params(labelsize=12) \n",
    "cbar.ax.set_title('intensity', size='14')\n",
    "\n",
    "fig6_ax2 = fig6.add_subplot(gs6[0, 1])\n",
    "pos = fig6_ax2.imshow(grid[0,:,:,1], cmap='jet', vmin=grid.min(), vmax=grid.max(), origin='lower')\n",
    "divider = make_axes_locatable(fig6_ax2)\n",
    "cax = divider.append_axes(\"right\", size=\"5%\", pad=0.05)\n",
    "cbar = fig6.colorbar(pos, cax=cax)\n",
    "cbar.ax.tick_params(labelsize=12) \n",
    "cbar.ax.set_title('intensity', size='14')\n"
   ]
  },
  {
   "cell_type": "code",
   "execution_count": 20,
   "metadata": {},
   "outputs": [
    {
     "data": {
      "text/plain": [
       "Text(0.5, 1.0, 'intensity')"
      ]
     },
     "execution_count": 20,
     "metadata": {},
     "output_type": "execute_result"
    },
    {
     "data": {
      "image/png": "[encoded data removed]",
      "text/plain": [
       "<Figure size 864x360 with 4 Axes>"
      ]
     },
     "metadata": {
      "needs_background": "light"
     },
     "output_type": "display_data"
    }
   ],
   "source": [
    "imm_rot = rotate(imm, theta, dev=dev)\n",
    "\n",
    "fig6 = plt.figure(figsize=(12,5))\n",
    "gs6 = gridspec.GridSpec(nrows= 1, ncols =2)\n",
    "\n",
    "fig6_ax1 = fig6.add_subplot(gs6[0, 0])\n",
    "pos = fig6_ax1.imshow(imm[0,0], cmap='jet', vmin=imm.min(), vmax=imm.max(), origin='lower')\n",
    "divider = make_axes_locatable(fig6_ax1)\n",
    "cax = divider.append_axes(\"right\", size=\"5%\", pad=0.05)\n",
    "cbar = fig6.colorbar(pos, cax=cax)\n",
    "cbar.ax.tick_params(labelsize=12) \n",
    "cbar.ax.set_title('intensity', size='14')\n",
    "\n",
    "fig6_ax2 = fig6.add_subplot(gs6[0, 1])\n",
    "pos = fig6_ax2.imshow(imm_rot[0,0], cmap='jet', vmin=imm.min(), vmax=imm.max(), origin='lower')\n",
    "divider = make_axes_locatable(fig6_ax2)\n",
    "cax = divider.append_axes(\"right\", size=\"5%\", pad=0.05)\n",
    "cbar = fig6.colorbar(pos, cax=cax)\n",
    "cbar.ax.tick_params(labelsize=12) \n",
    "cbar.ax.set_title('intensity', size='14')"
   ]
  },
  {
   "cell_type": "code",
   "execution_count": 21,
   "metadata": {},
   "outputs": [
    {
     "name": "stdout",
     "output_type": "stream",
     "text": [
      "[0, 0, 0]\n"
     ]
    }
   ],
   "source": [
    "coord_old_floor_1 = tc.arange(10)\n",
    "slicer_ff = [0, 0, 0]\n",
    "print(slicer_ff)"
   ]
  },
  {
   "cell_type": "code",
   "execution_count": 16,
   "metadata": {},
   "outputs": [
    {
     "name": "stdout",
     "output_type": "stream",
     "text": [
      "[0, tensor([0, 1, 2, 3, 4, 5, 6, 7, 8, 9]), 0]\n"
     ]
    }
   ],
   "source": [
    "slicer_ff[1] = coord_old_floor_1\n",
    "print(slicer_ff)"
   ]
  },
  {
   "cell_type": "code",
   "execution_count": null,
   "metadata": {},
   "outputs": [],
   "source": []
  }
 ],
 "metadata": {
  "kernelspec": {
   "display_name": "Python 3",
   "language": "python",
   "name": "python3"
  },
  "language_info": {
   "codemirror_mode": {
    "name": "ipython",
    "version": 3
   },
   "file_extension": ".py",
   "mimetype": "text/x-python",
   "name": "python",
   "nbconvert_exporter": "python",
   "pygments_lexer": "ipython3",
   "version": "3.7.7"
  }
 },
 "nbformat": 4,
 "nbformat_minor": 4
}
