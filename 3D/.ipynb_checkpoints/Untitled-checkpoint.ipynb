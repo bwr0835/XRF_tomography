{
 "cells": [
  {
   "cell_type": "code",
   "execution_count": 1,
   "metadata": {},
   "outputs": [],
   "source": [
    "import numpy as np\n",
    "from numpy.random import default_rng\n",
    "import xraylib as xlib\n",
    "import xraylib_np as xlib_np\n",
    "import torch as tc\n",
    "import torch.nn.functional as F\n",
    "import os\n",
    "from tqdm import tqdm\n",
    "import pickle\n",
    "import h5py\n",
    "\n",
    "import matplotlib.pyplot as plt\n",
    "import matplotlib \n",
    "matplotlib.rcParams['pdf.fonttype'] = 'truetype'\n",
    "fontProperties = {'family': 'serif', 'serif': ['Helvetica'], 'weight': 'normal', 'size': 12}\n",
    "plt.rc('font', **fontProperties)\n",
    "\n",
    "from matplotlib import gridspec\n",
    "from mpl_toolkits.axes_grid1 import make_axes_locatable\n",
    "import matplotlib.ticker as mtick\n",
    "from mpl_toolkits.axes_grid1.anchored_artists import AnchoredSizeBar\n",
    "import matplotlib.font_manager as fm\n"
   ]
  },
  {
   "cell_type": "code",
   "execution_count": 2,
   "metadata": {},
   "outputs": [],
   "source": [
    "fl_K = np.array([xlib.KA1_LINE, xlib.KA2_LINE, xlib.KA3_LINE, xlib.KB1_LINE, xlib.KB2_LINE,\n",
    "                 xlib.KB3_LINE, xlib.KB4_LINE, xlib.KB5_LINE])\n",
    "\n",
    "fl_L = np.array([xlib.LA1_LINE, xlib.LA2_LINE, xlib.LB1_LINE, xlib.LB2_LINE, xlib.LB3_LINE,\n",
    "                 xlib.LB4_LINE, xlib.LB5_LINE, xlib.LB6_LINE, xlib.LB7_LINE, xlib.LB9_LINE,\n",
    "                 xlib.LB10_LINE, xlib.LB15_LINE, xlib.LB17_LINE])\n",
    "\n",
    "fl_M = np.array([xlib.MA1_LINE, xlib.MA2_LINE, xlib.MB_LINE])\n",
    "\n",
    "fl_line_groups = np.array([\"K\", \"L\", \"M\"])\n",
    "group_lines = True\n",
    "dev = \"cpu\""
   ]
  },
  {
   "cell_type": "code",
   "execution_count": 19,
   "metadata": {},
   "outputs": [],
   "source": [
    "def MakeFLlinesDictionary(this_aN_dic, probe_energy,\n",
    "                          sample_size_n, sample_size_cm,\n",
    "                          fl_line_groups = np.array([\"K\", \"L\", \"M\"]), fl_K = fl_K, fl_L = fl_L, fl_M = fl_M,\n",
    "                          group_lines = True):\n",
    "\n",
    "\n",
    "    element_ls = np.array(list(this_aN_dic.keys()))\n",
    "    aN_ls = np.array(list(this_aN_dic.values()))\n",
    "\n",
    "    n_line_group = len(fl_line_groups)\n",
    "    FL_all_elements_dic = {\"element_Line\": [], \"fl_energy\": np.array([]), \"detected_fl_unit_concentration\": np.array([])}\n",
    "    voxel_size = sample_size_cm/sample_size_n   \n",
    "\n",
    "    fl_cs_K = xlib_np.CS_FluorLine_Kissel_Cascade(aN_ls, fl_K, probe_energy)\n",
    "    fl_cs_L = xlib_np.CS_FluorLine_Kissel_Cascade(aN_ls, fl_L, probe_energy)\n",
    "    fl_cs_M = xlib_np.CS_FluorLine_Kissel_Cascade(aN_ls, fl_M, probe_energy)\n",
    "\n",
    "    # Remove the extra dimension with only 1 element\n",
    "    fl_cs_K = np.reshape(fl_cs_K, (fl_cs_K.shape[:-1]))\n",
    "    fl_cs_L = np.reshape(fl_cs_L, (fl_cs_L.shape[:-1]))\n",
    "    fl_cs_M = np.reshape(fl_cs_M, (fl_cs_M.shape[:-1]))\n",
    "\n",
    "    fl_energy_K = xlib_np.LineEnergy(aN_ls, fl_K)\n",
    "    fl_energy_L = xlib_np.LineEnergy(aN_ls, fl_L)\n",
    "    fl_energy_M = xlib_np.LineEnergy(aN_ls, fl_M)\n",
    "\n",
    "    FL_all_elements_dic = {\"(element_name, Line)\": [], \"fl_energy\": np.array([]), \"detected_fl_unit_concentration\": np.array([]),\n",
    "                           \"n_line_group_each_element\": np.array([]), \"n_lines\": None}\n",
    "    if group_lines == True:\n",
    "        fl_energy_group = np.zeros((len(element_ls),n_line_group))\n",
    "        fl_cs_group = np.zeros((len(element_ls),n_line_group))\n",
    "        \n",
    "        for i, element_name in enumerate(element_ls): \n",
    "\n",
    "            if np.sum(fl_cs_K[i] != 0):\n",
    "                fl_energy_group[i,0] = np.average(fl_energy_K[i], weights=fl_cs_K[i]) \n",
    "                fl_cs_group[i,0] = np.sum(fl_cs_K[i])\n",
    "            else:\n",
    "                fl_energy_group[i,0] = 0\n",
    "                fl_cs_group[i,0] = 0\n",
    "\n",
    "            if np.sum(fl_cs_L[i] != 0):\n",
    "                fl_energy_group[i,1] = np.average(fl_energy_L[i], weights=fl_cs_L[i]) \n",
    "                fl_cs_group[i,1] = np.sum(fl_cs_L[i])\n",
    "            else:\n",
    "                fl_energy_group[i,1] = 0\n",
    "                fl_cs_group[i,1] = 0\n",
    "\n",
    "            if np.sum(fl_cs_M[i] != 0):\n",
    "                fl_energy_group[i,2] = np.average(fl_energy_M[i], weights=fl_cs_M[i]) \n",
    "                fl_cs_group[i,2] = np.sum(fl_cs_M[i])\n",
    "            else:\n",
    "                fl_energy_group[i,2] = 0\n",
    "                fl_cs_group[i,2] = 0\n",
    "\n",
    "            element_Line = fl_line_groups[fl_energy_group[i]!= 0]\n",
    "            element_Line = [[element_name, element_Line[j]] for j in range(len(element_Line))]\n",
    "            for k in range(len(element_Line)):\n",
    "                FL_all_elements_dic[\"(element_name, Line)\"].append(element_Line[k])     \n",
    "\n",
    "            Line_energy = fl_energy_group[i][fl_energy_group[i]!=0]\n",
    "            FL_all_elements_dic[\"fl_energy\"] = np.append(FL_all_elements_dic[\"fl_energy\"], Line_energy)\n",
    "            fl_unit_con = fl_cs_group[i][fl_energy_group[i]!=0] * voxel_size\n",
    "            FL_all_elements_dic[\"detected_fl_unit_concentration\"] = np.append(FL_all_elements_dic[\"detected_fl_unit_concentration\"], fl_unit_con)\n",
    "            FL_all_elements_dic[\"n_line_group_each_element\"] = np.append(FL_all_elements_dic[\"n_line_group_each_element\"], len(fl_unit_con))\n",
    "            \n",
    "        FL_all_elements_dic[\"(element_name, Line)\"] = np.array(FL_all_elements_dic[\"(element_name, Line)\"])\n",
    "    \n",
    "    FL_all_elements_dic[\"n_lines\"] = len(FL_all_elements_dic[\"(element_name, Line)\"])\n",
    "    return FL_all_elements_dic"
   ]
  },
  {
   "cell_type": "code",
   "execution_count": 22,
   "metadata": {},
   "outputs": [],
   "source": [
    "this_aN_dic = {\"Ca\": 20, \"Sc\": 21}\n",
    "probe_energy = np.array([20.0])\n",
    "sample_size_n = tc.tensor(64).to(dev)\n",
    "sample_size_cm = tc.tensor(0.01).to(dev)\n",
    "\n",
    "FL_dic = MakeFLlinesDictionary(this_aN_dic, probe_energy,\n",
    "                          sample_size_n.cpu().numpy(), sample_size_cm.cpu().numpy(),\n",
    "                          fl_line_groups = np.array([\"K\", \"L\", \"M\"]), fl_K = fl_K, fl_L = fl_L, fl_M = fl_M,\n",
    "                          group_lines = True)"
   ]
  },
  {
   "cell_type": "code",
   "execution_count": 23,
   "metadata": {},
   "outputs": [
    {
     "data": {
      "text/plain": [
       "{'(element_name, Line)': array([['Ca', 'K'],\n",
       "        ['Ca', 'L'],\n",
       "        ['Sc', 'K'],\n",
       "        ['Sc', 'L']], dtype='<U2'),\n",
       " 'fl_energy': array([3.72645881, 0.33630868, 4.13132326, 0.39404391]),\n",
       " 'detected_fl_unit_concentration': array([3.00225145e-04, 2.54702887e-07, 3.77164143e-04, 1.71068821e-06]),\n",
       " 'n_line_group_each_element': array([2., 2.]),\n",
       " 'n_lines': 4}"
      ]
     },
     "execution_count": 23,
     "metadata": {},
     "output_type": "execute_result"
    }
   ],
   "source": [
    "FL_dic"
   ]
  },
  {
   "cell_type": "code",
   "execution_count": 7,
   "metadata": {},
   "outputs": [
    {
     "data": {
      "text/plain": [
       "(array([ 9.,  5., 13., 31., 14., 14., 11.,  1.,  1.,  1.]),\n",
       " array([ 0. ,  1.3,  2.6,  3.9,  5.2,  6.5,  7.8,  9.1, 10.4, 11.7, 13. ]),\n",
       " <a list of 10 Patch objects>)"
      ]
     },
     "execution_count": 7,
     "metadata": {},
     "output_type": "execute_result"
    },
    {
     "name": "stderr",
     "output_type": "stream",
     "text": [
      "findfont: Font family ['serif'] not found. Falling back to DejaVu Sans.\n"
     ]
    },
    {
     "data": {
      "image/png": "[encoded data removed]",
      "text/plain": [
       "<Figure size 432x288 with 1 Axes>"
      ]
     },
     "metadata": {
      "needs_background": "light"
     },
     "output_type": "display_data"
    }
   ],
   "source": [
    "a = default_rng()\n",
    "a_noise = a.poisson(5 * np.ones(100))\n",
    "plt.hist(a_noise)"
   ]
  },
  {
   "cell_type": "code",
   "execution_count": 53,
   "metadata": {},
   "outputs": [],
   "source": [
    "# f = h5py.File('data/P_array/sample_64_64_64/detSpacing_0.4_dpts_5/backup/Intersecting_Length_64_64_64.h5', 'r')"
   ]
  },
  {
   "cell_type": "code",
   "execution_count": 65,
   "metadata": {},
   "outputs": [
    {
     "name": "stdout",
     "output_type": "stream",
     "text": [
      "(5, 3, 28835840)\n"
     ]
    }
   ],
   "source": [
    "f_data_array = np.load('data/P_array/sample_64_64_64/detSpacing_0.4_dpts_5/backup/Intersecting_Length_64_64_64.npy')\n",
    "print(f_data_array.shape)"
   ]
  },
  {
   "cell_type": "code",
   "execution_count": 66,
   "metadata": {},
   "outputs": [
    {
     "name": "stdout",
     "output_type": "stream",
     "text": [
      "(5, 3, 28835840)\n"
     ]
    }
   ],
   "source": [
    "f_data_array2 = np.load('data/P_array/sample_64_64_64/detSpacing_0.4_dpts_5/backup3/Intersecting_Length_64_64_64.npy')\n",
    "\n",
    "# f2 = h5py.File('data/P_array/sample_64_64_64/detSpacing_0.4_dpts_5/backup/Intersecting_Length_64_64_64.h5', 'w')\n",
    "# dia_len_n = 110\n",
    "# sample_height_n = 64\n",
    "# sample_size_n = 64\n",
    "# n_det = 5\n",
    "# P = f2.create_dataset('P_array', (n_det, 3, dia_len_n * sample_height_n * sample_size_n**2), dtype='f4')\n",
    "# P[...] = f_data_array2\n",
    "# f2.close()\n",
    "\n",
    "print(f_data_array2.shape)"
   ]
  },
  {
   "cell_type": "code",
   "execution_count": null,
   "metadata": {},
   "outputs": [],
   "source": []
  },
  {
   "cell_type": "code",
   "execution_count": 37,
   "metadata": {
    "collapsed": true,
    "jupyter": {
     "outputs_hidden": true,
     "source_hidden": true
    }
   },
   "outputs": [
    {
     "name": "stdout",
     "output_type": "stream",
     "text": [
      "(5, 3, 28835840)\n",
      "[252144. 252144. 252144. 252144. 252144. 252144. 252144. 252144. 252144.\n",
      " 252144. 252144. 252144. 252144. 252144. 252144. 252144. 252144. 252144.\n",
      " 252144. 252144. 252144. 252144. 252144. 252144. 252144. 252144. 252144.\n",
      " 252144. 252144. 252144. 252144. 252144. 252144. 252144. 252144.      0.\n",
      "      0.      0.      0.      0.      0.      0.      0.      0.      0.\n",
      "      0.      0.      0.      0.      0.      0.      0.      0.      0.\n",
      "      0.      0.      0.      0.      0.      0.      0.      0.      0.\n",
      "      0.      0.      0.      0.      0.      0.      0.      0.      0.\n",
      "      0.      0.      0.      0.      0.      0.      0.      0.      0.\n",
      "      0.      0.      0.      0.      0.      0.      0.      0.      0.\n",
      "      0.      0.      0.      0.      0.      0.      0.      0.      0.\n",
      "      0.      0.      0.      0.      0.      0.      0.      0.      0.\n",
      "      0.      0.]\n",
      "[1.61140517e-04 7.78322064e-05 8.33083104e-05 1.61140517e-04\n",
      " 1.61140517e-04 1.61140517e-04 7.23561025e-05 8.87844071e-05\n",
      " 1.61140517e-04 1.61140517e-04 1.61140517e-04 6.68800058e-05\n",
      " 9.42605111e-05 1.61140517e-04 1.61140517e-04 1.61140517e-04\n",
      " 6.14039018e-05 9.97366151e-05 1.61140517e-04 1.61140517e-04\n",
      " 1.61140517e-04 5.59277978e-05 1.05212712e-04 1.61140517e-04\n",
      " 1.61140517e-04 1.61140517e-04 5.04516975e-05 1.10688816e-04\n",
      " 1.61140517e-04 1.61140517e-04 1.61140517e-04 4.49755971e-05\n",
      " 1.16164920e-04 1.61140517e-04 1.61140517e-04 0.00000000e+00\n",
      " 0.00000000e+00 0.00000000e+00 0.00000000e+00 0.00000000e+00\n",
      " 0.00000000e+00 0.00000000e+00 0.00000000e+00 0.00000000e+00\n",
      " 0.00000000e+00 0.00000000e+00 0.00000000e+00 0.00000000e+00\n",
      " 0.00000000e+00 0.00000000e+00 0.00000000e+00 0.00000000e+00\n",
      " 0.00000000e+00 0.00000000e+00 0.00000000e+00 0.00000000e+00\n",
      " 0.00000000e+00 0.00000000e+00 0.00000000e+00 0.00000000e+00\n",
      " 0.00000000e+00 0.00000000e+00 0.00000000e+00 0.00000000e+00\n",
      " 0.00000000e+00 0.00000000e+00 0.00000000e+00 0.00000000e+00\n",
      " 0.00000000e+00 0.00000000e+00 0.00000000e+00 0.00000000e+00\n",
      " 0.00000000e+00 0.00000000e+00 0.00000000e+00 0.00000000e+00\n",
      " 0.00000000e+00 0.00000000e+00 0.00000000e+00 0.00000000e+00\n",
      " 0.00000000e+00 0.00000000e+00 0.00000000e+00 0.00000000e+00\n",
      " 0.00000000e+00 0.00000000e+00 0.00000000e+00 0.00000000e+00\n",
      " 0.00000000e+00 0.00000000e+00 0.00000000e+00 0.00000000e+00\n",
      " 0.00000000e+00 0.00000000e+00 0.00000000e+00 0.00000000e+00\n",
      " 0.00000000e+00 0.00000000e+00 0.00000000e+00 0.00000000e+00\n",
      " 0.00000000e+00 0.00000000e+00 0.00000000e+00 0.00000000e+00\n",
      " 0.00000000e+00 0.00000000e+00 0.00000000e+00 0.00000000e+00\n",
      " 0.00000000e+00 0.00000000e+00]\n",
      "\n",
      "\n",
      "(5, 3, 28835840)\n",
      "[252144. 252144. 252144. 252144. 252144. 252144. 252144. 252144. 252144.\n",
      " 252144. 252144. 252144. 252144. 252144. 252144. 252144. 252144. 252144.\n",
      " 252144. 252144. 252144. 252144. 252144. 252144. 252144. 252144. 252144.\n",
      " 252144. 252144. 252144. 252144. 252144. 252144. 252144. 252144.      0.\n",
      "      0.      0.      0.      0.      0.      0.      0.      0.      0.\n",
      "      0.      0.      0.      0.      0.      0.      0.      0.      0.\n",
      "      0.      0.      0.      0.      0.      0.      0.      0.      0.\n",
      "      0.      0.      0.      0.      0.      0.      0.      0.      0.\n",
      "      0.      0.      0.      0.      0.      0.      0.      0.      0.\n",
      "      0.      0.      0.      0.      0.      0.      0.      0.      0.\n",
      "      0.      0.      0.      0.      0.      0.      0.      0.      0.\n",
      "      0.      0.      0.      0.      0.      0.      0.      0.      0.\n",
      "      0.      0.]\n",
      "[1.61140517e-04 7.78322064e-05 8.33083104e-05 1.61140517e-04\n",
      " 1.61140517e-04 1.61140517e-04 7.23561025e-05 8.87844071e-05\n",
      " 1.61140517e-04 1.61140517e-04 1.61140517e-04 6.68800058e-05\n",
      " 9.42605111e-05 1.61140517e-04 1.61140517e-04 1.61140517e-04\n",
      " 6.14039018e-05 9.97366151e-05 1.61140517e-04 1.61140517e-04\n",
      " 1.61140517e-04 5.59277978e-05 1.05212712e-04 1.61140517e-04\n",
      " 1.61140517e-04 1.61140517e-04 5.04516975e-05 1.10688816e-04\n",
      " 1.61140517e-04 1.61140517e-04 1.61140517e-04 4.49755971e-05\n",
      " 1.16164920e-04 1.61140517e-04 1.61140517e-04 0.00000000e+00\n",
      " 0.00000000e+00 0.00000000e+00 0.00000000e+00 0.00000000e+00\n",
      " 0.00000000e+00 0.00000000e+00 0.00000000e+00 0.00000000e+00\n",
      " 0.00000000e+00 0.00000000e+00 0.00000000e+00 0.00000000e+00\n",
      " 0.00000000e+00 0.00000000e+00 0.00000000e+00 0.00000000e+00\n",
      " 0.00000000e+00 0.00000000e+00 0.00000000e+00 0.00000000e+00\n",
      " 0.00000000e+00 0.00000000e+00 0.00000000e+00 0.00000000e+00\n",
      " 0.00000000e+00 0.00000000e+00 0.00000000e+00 0.00000000e+00\n",
      " 0.00000000e+00 0.00000000e+00 0.00000000e+00 0.00000000e+00\n",
      " 0.00000000e+00 0.00000000e+00 0.00000000e+00 0.00000000e+00\n",
      " 0.00000000e+00 0.00000000e+00 0.00000000e+00 0.00000000e+00\n",
      " 0.00000000e+00 0.00000000e+00 0.00000000e+00 0.00000000e+00\n",
      " 0.00000000e+00 0.00000000e+00 0.00000000e+00 0.00000000e+00\n",
      " 0.00000000e+00 0.00000000e+00 0.00000000e+00 0.00000000e+00\n",
      " 0.00000000e+00 0.00000000e+00 0.00000000e+00 0.00000000e+00\n",
      " 0.00000000e+00 0.00000000e+00 0.00000000e+00 0.00000000e+00\n",
      " 0.00000000e+00 0.00000000e+00 0.00000000e+00 0.00000000e+00\n",
      " 0.00000000e+00 0.00000000e+00 0.00000000e+00 0.00000000e+00\n",
      " 0.00000000e+00 0.00000000e+00 0.00000000e+00 0.00000000e+00\n",
      " 0.00000000e+00 0.00000000e+00]\n"
     ]
    }
   ],
   "source": [
    "# detecting point, source voxel, \n",
    "idx = 64*64*64-10000\n",
    "print(f_data_array.shape)\n",
    "print(f_data_array[0, 0, 110*idx: 110*(idx+1)])\n",
    "print(f_data_array[0, 2, 110*idx: 110*(idx+1)])\n",
    "print(\"\\n\")\n",
    "print(f_data_array2.shape)\n",
    "print(f_data_array2[0, 0, 110*idx: 110*(idx+1)])\n",
    "print(f_data_array2[0, 2, 110*idx: 110*(idx+1)])"
   ]
  },
  {
   "cell_type": "code",
   "execution_count": 67,
   "metadata": {},
   "outputs": [
    {
     "name": "stdout",
     "output_type": "stream",
     "text": [
      "(array([], dtype=int64), array([], dtype=int64), array([], dtype=int64))\n",
      "(0,)\n",
      "(0,)\n",
      "(0,)\n"
     ]
    }
   ],
   "source": [
    "f_data_array = np.array(f_data_array)\n",
    "a = np.where(f_data_array2 != f_data_array)\n",
    "print(a)\n",
    "print(a[0].shape)\n",
    "print(a[1].shape)\n",
    "print(a[2].shape)"
   ]
  },
  {
   "cell_type": "code",
   "execution_count": 34,
   "metadata": {},
   "outputs": [
    {
     "name": "stdout",
     "output_type": "stream",
     "text": [
      "[[[0.0000000e+00 0.0000000e+00 0.0000000e+00 ... 0.0000000e+00\n",
      "   0.0000000e+00 0.0000000e+00]\n",
      "  [6.4000000e+01 1.2800000e+02 0.0000000e+00 ... 0.0000000e+00\n",
      "   0.0000000e+00 0.0000000e+00]\n",
      "  [1.6088634e-04 8.6487940e-05 0.0000000e+00 ... 0.0000000e+00\n",
      "   0.0000000e+00 0.0000000e+00]]]\n"
     ]
    }
   ],
   "source": [
    "print(f_data_array2[(np.array([0]),)])"
   ]
  },
  {
   "cell_type": "code",
   "execution_count": 27,
   "metadata": {},
   "outputs": [
    {
     "name": "stdout",
     "output_type": "stream",
     "text": [
      "tensor([[[0.0000e+00, 0.0000e+00, 0.0000e+00,  ..., 0.0000e+00,\n",
      "          0.0000e+00, 0.0000e+00],\n",
      "         [6.4000e+01, 1.2800e+02, 0.0000e+00,  ..., 0.0000e+00,\n",
      "          0.0000e+00, 0.0000e+00],\n",
      "         [1.6089e-04, 8.6488e-05, 0.0000e+00,  ..., 0.0000e+00,\n",
      "          0.0000e+00, 0.0000e+00]]])\n"
     ]
    }
   ],
   "source": [
    "print(f_data_array[(np.array([0]),)])"
   ]
  },
  {
   "cell_type": "code",
   "execution_count": 13,
   "metadata": {},
   "outputs": [],
   "source": [
    "f.close()"
   ]
  },
  {
   "cell_type": "code",
   "execution_count": null,
   "metadata": {},
   "outputs": [],
   "source": []
  }
 ],
 "metadata": {
  "kernelspec": {
   "display_name": "Python 3",
   "language": "python",
   "name": "python3"
  },
  "language_info": {
   "codemirror_mode": {
    "name": "ipython",
    "version": 3
   },
   "file_extension": ".py",
   "mimetype": "text/x-python",
   "name": "python",
   "nbconvert_exporter": "python",
   "pygments_lexer": "ipython3",
   "version": "3.7.9"
  }
 },
 "nbformat": 4,
 "nbformat_minor": 4
}
