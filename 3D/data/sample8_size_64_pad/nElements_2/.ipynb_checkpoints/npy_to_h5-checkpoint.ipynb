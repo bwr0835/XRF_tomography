{
 "cells": [
  {
   "cell_type": "code",
   "execution_count": 5,
   "id": "c2272b5c-3a9e-41d2-9e84-6ab295453464",
   "metadata": {},
   "outputs": [],
   "source": [
    "import numpy as np\n",
    "import h5py"
   ]
  },
  {
   "cell_type": "code",
   "execution_count": 3,
   "id": "6b5218b8-eed3-4a48-bda2-2984edb667d7",
   "metadata": {},
   "outputs": [],
   "source": [
    "gt = np.load(\"grid_concentration.npy\")"
   ]
  },
  {
   "cell_type": "code",
   "execution_count": 4,
   "id": "52cdd3ef-c515-42ee-ba42-c79423a10435",
   "metadata": {},
   "outputs": [
    {
     "name": "stdout",
     "output_type": "stream",
     "text": [
      "(2, 64, 64, 64)\n"
     ]
    }
   ],
   "source": [
    "with h5py.File(\"grid_concentration\", w) as f:\n",
    "    "
   ]
  },
  {
   "cell_type": "code",
   "execution_count": null,
   "id": "587c61dd-7323-4b89-ad9f-cd5e45f00c1b",
   "metadata": {},
   "outputs": [],
   "source": []
  }
 ],
 "metadata": {
  "kernelspec": {
   "display_name": "Python 3 (ipykernel)",
   "language": "python",
   "name": "python3"
  },
  "language_info": {
   "codemirror_mode": {
    "name": "ipython",
    "version": 3
   },
   "file_extension": ".py",
   "mimetype": "text/x-python",
   "name": "python",
   "nbconvert_exporter": "python",
   "pygments_lexer": "ipython3",
   "version": "3.9.6"
  }
 },
 "nbformat": 4,
 "nbformat_minor": 5
}
